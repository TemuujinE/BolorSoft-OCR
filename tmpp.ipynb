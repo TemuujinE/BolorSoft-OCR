{
 "cells": [
  {
   "cell_type": "code",
   "execution_count": 4,
   "metadata": {},
   "outputs": [],
   "source": [
    "import pandas as pd\n",
    "\n",
    "# Assuming 'data' is a DataFrame\n",
    "\n",
    "# Convert DataFrame to a list of lists\n",
    "data = pd.read_csv(\"deep-text-recognition-benchmark\\mn_recognition_data\\labels.csv\")\n",
    "data['img_path'] = data['img_path'].apply(lambda x: x.split('/')[-1].strip())\n",
    "data_list = data.values.tolist()"
   ]
  },
  {
   "cell_type": "code",
   "execution_count": 5,
   "metadata": {},
   "outputs": [],
   "source": [
    "# Open the file for writing with 'w' mode\n",
    "with open(\"labels1.txt\", \"w\") as f:\n",
    "  for row in data_list:\n",
    "    f.write('\\t'.join(str(x) for x in row) + '\\n')"
   ]
  },
  {
   "cell_type": "code",
   "execution_count": null,
   "metadata": {},
   "outputs": [],
   "source": []
  }
 ],
 "metadata": {
  "kernelspec": {
   "display_name": "ocr_pt_env",
   "language": "python",
   "name": "python3"
  },
  "language_info": {
   "codemirror_mode": {
    "name": "ipython",
    "version": 3
   },
   "file_extension": ".py",
   "mimetype": "text/x-python",
   "name": "python",
   "nbconvert_exporter": "python",
   "pygments_lexer": "ipython3",
   "version": "3.9.19"
  }
 },
 "nbformat": 4,
 "nbformat_minor": 2
}
