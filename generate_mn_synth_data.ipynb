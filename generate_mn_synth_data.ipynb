{
 "cells": [
  {
   "cell_type": "code",
   "execution_count": 13,
   "metadata": {},
   "outputs": [],
   "source": [
    "import warnings\n",
    "warnings.filterwarnings('ignore')\n",
    "\n",
    "import os, gc\n",
    "import yaml\n",
    "from tqdm import tqdm\n",
    "\n",
    "import numpy as np\n",
    "import pandas as pd\n",
    "\n",
    "from trdg.generators import GeneratorFromStrings"
   ]
  },
  {
   "cell_type": "code",
   "execution_count": 7,
   "metadata": {},
   "outputs": [],
   "source": [
    "def gen_data(config):\n",
    "    command = 'trdg'\n",
    "    for key, value in config.items():\n",
    "        if isinstance(value, bool):\n",
    "            if value:\n",
    "                command += f\" --{key}\"\n",
    "        else:\n",
    "            command += f\" --{key} {value}\"\n",
    "    os.system(command)"
   ]
  },
  {
   "cell_type": "code",
   "execution_count": 8,
   "metadata": {},
   "outputs": [
    {
     "data": {
      "text/plain": [
       "{'output_dir': './mn_recognition_data/demo_multiple_word',\n",
       " 'dict': 'text_data/eduge_uls_tur_unique_words.txt',\n",
       " 'font_dir': 'TextRecognitionDataGenerator/trdg/fonts/mn',\n",
       " 'random': True,\n",
       " 'thread_count': 12,\n",
       " 'language': 'mn',\n",
       " 'count': 6,\n",
       " 'length': 5,\n",
       " 'blur': 3,\n",
       " 'skew_angle': 5,\n",
       " 'random_blur': True,\n",
       " 'random_skew': True,\n",
       " 'format': 128,\n",
       " 'background': 1}"
      ]
     },
     "execution_count": 8,
     "metadata": {},
     "output_type": "execute_result"
    }
   ],
   "source": [
    "def parse_args_from_file(file_path):\n",
    "    with open(file_path, 'r', encoding = 'utf-8') as f:\n",
    "        config = yaml.safe_load(f)\n",
    "    return config\n",
    "\n",
    "config = parse_args_from_file(\"mn_conf/eval_data_generate_conf.yaml\")\n",
    "config"
   ]
  },
  {
   "cell_type": "markdown",
   "metadata": {},
   "source": [
    "# White bg"
   ]
  },
  {
   "cell_type": "code",
   "execution_count": 9,
   "metadata": {},
   "outputs": [],
   "source": [
    "gen_data(config)"
   ]
  },
  {
   "cell_type": "markdown",
   "metadata": {},
   "source": [
    "# Random img bg"
   ]
  },
  {
   "cell_type": "code",
   "execution_count": 5,
   "metadata": {},
   "outputs": [
    {
     "data": {
      "text/plain": [
       "{'output_dir': './mn_recognition_data/eval_multiple_word',\n",
       " 'dict': 'text_data/eduge_uls_tur_unique_words.txt',\n",
       " 'font_dir': 'TextRecognitionDataGenerator/trdg/fonts/mn',\n",
       " 'random': True,\n",
       " 'thread_count': 12,\n",
       " 'language': 'mn',\n",
       " 'count': 1500,\n",
       " 'length': 5,\n",
       " 'blur': 3,\n",
       " 'skew_angle': 5,\n",
       " 'random_blur': True,\n",
       " 'random_skew': True,\n",
       " 'format': 128,\n",
       " 'background': 3}"
      ]
     },
     "execution_count": 5,
     "metadata": {},
     "output_type": "execute_result"
    }
   ],
   "source": [
    "config = parse_args_from_file(\"mn_conf/eval_data_generate_conf.yaml\")\n",
    "config"
   ]
  },
  {
   "cell_type": "code",
   "execution_count": 6,
   "metadata": {},
   "outputs": [],
   "source": [
    "gen_data(config)"
   ]
  },
  {
   "cell_type": "code",
   "execution_count": 7,
   "metadata": {},
   "outputs": [
    {
     "name": "stderr",
     "output_type": "stream",
     "text": [
      "3000it [00:00, 5909.78it/s]           \n"
     ]
    }
   ],
   "source": [
    "data = {\n",
    "    \"img_name\": [],\n",
    "    \"text\": []\n",
    "}\n",
    "data_path = \"mn_recognition_data/eval_multiple_word\"\n",
    "for idx, img_name in tqdm(enumerate(os.listdir(data_path)), total = len(data_path)):\n",
    "    os.rename(os.path.join(data_path, img_name), f\"{data_path}/img{idx}.jpg\")\n",
    "\n",
    "    data['img_name'].append(f\"img{idx}.jpg\")\n",
    "    data['text'].append(img_name.split('_')[0].strip())\n",
    "\n",
    "data = pd.DataFrame(data)\n",
    "data.to_csv('mn_recognition_data/eval_multiple_word_labels.csv', encoding = 'utf-8', index = False)"
   ]
  },
  {
   "cell_type": "code",
   "execution_count": 8,
   "metadata": {},
   "outputs": [
    {
     "name": "stderr",
     "output_type": "stream",
     "text": [
      "100%|██████████| 3000/3000 [00:00<00:00, 501371.16it/s]\n"
     ]
    }
   ],
   "source": [
    "data_list = data.values.tolist()\n",
    "\n",
    "with open(\"mn_recognition_data/eval_multiple_word_labels.txt\", \"w\") as f:\n",
    "  for i, row in tqdm(enumerate(data_list), total = len(data_list)):\n",
    "    if i != len(data_list) - 1:\n",
    "      f.write(\"\\t\".join(str(x) for x in row) + \"\\n\")\n",
    "    else:\n",
    "      f.write(\"\\t\".join(str(x) for x in row))"
   ]
  },
  {
   "cell_type": "code",
   "execution_count": 9,
   "metadata": {},
   "outputs": [
    {
     "data": {
      "text/plain": [
       "9"
      ]
     },
     "execution_count": 9,
     "metadata": {},
     "output_type": "execute_result"
    }
   ],
   "source": [
    "del data, data_list\n",
    "gc.collect()"
   ]
  },
  {
   "cell_type": "code",
   "execution_count": null,
   "metadata": {},
   "outputs": [],
   "source": []
  }
 ],
 "metadata": {
  "kernelspec": {
   "display_name": "ocr_pt_env",
   "language": "python",
   "name": "python3"
  },
  "language_info": {
   "codemirror_mode": {
    "name": "ipython",
    "version": 3
   },
   "file_extension": ".py",
   "mimetype": "text/x-python",
   "name": "python",
   "nbconvert_exporter": "python",
   "pygments_lexer": "ipython3",
   "version": "3.9.19"
  }
 },
 "nbformat": 4,
 "nbformat_minor": 2
}
