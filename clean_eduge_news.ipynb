{
 "cells": [
  {
   "cell_type": "code",
   "execution_count": 1,
   "metadata": {},
   "outputs": [
    {
     "name": "stderr",
     "output_type": "stream",
     "text": [
      "[nltk_data] Downloading package punkt to\n",
      "[nltk_data]     C:\\Users\\mnv\\AppData\\Roaming\\nltk_data...\n",
      "[nltk_data]   Package punkt is already up-to-date!\n"
     ]
    },
    {
     "name": "stdout",
     "output_type": "stream",
     "text": [
      "Missing modules for handwritten text generation.\n"
     ]
    }
   ],
   "source": [
    "import warnings\n",
    "warnings.filterwarnings('ignore')\n",
    "\n",
    "import random\n",
    "import os, re, gc\n",
    "from tqdm import tqdm\n",
    "\n",
    "import numpy as np\n",
    "import pandas as pd\n",
    "\n",
    "import nltk\n",
    "nltk.download('punkt')\n",
    "from trdg.generators import GeneratorFromStrings\n",
    "\n",
    "import matplotlib.pyplot as plt"
   ]
  },
  {
   "cell_type": "code",
   "execution_count": 2,
   "metadata": {},
   "outputs": [
    {
     "name": "stdout",
     "output_type": "stream",
     "text": [
      "13406\n"
     ]
    }
   ],
   "source": [
    "df = pd.read_csv(\"text_data/news.csv\")\n",
    "df.columns = ['news_text', 'label']\n",
    "df = df[df['label'] == 'улс төр'].reset_index(drop = True)\n",
    "all_words = df['news_text'].to_numpy().flatten()\n",
    "\n",
    "print(len(all_words))"
   ]
  },
  {
   "cell_type": "code",
   "execution_count": 3,
   "metadata": {},
   "outputs": [
    {
     "name": "stdout",
     "output_type": "stream",
     "text": [
      "['20', 'бөгөөд', 'үр', 'санамж', 'чиглэлээр', 'талаараа', 'хээрийн', 'өсөн', 'буй', 'суурийг', 'Хоёр', 'байдгаас', 'гүрнүүдийн', 'жилээс', 'онцолсон', 'байгуулж', 'Б.Ургамалцэцэг', 'Д.Ганхуяг', 'байдлыг', 'хоолой', 'болсон', 'Монголын', 'хөршөө', 'жилд', 'тогтворжуулах', 'хүрэн', 'улсад', 'тавьсан', 'бичиг-т', 'оноос', 'зохицуулах', 'шугам', 'байгууллага', 'засаг', 'аюулгүй', 'түймрээс', 'гадна', 'Н.Алтанхуяг', 'болохуйц', 'байр', 'орчим', 'гэсэн', 'хөрш', 'нэгжүүдэд', '35-40', 'уурхай', 'шоо', 'нутагтай', 'түлш', 'онд', '1999', 'шинэ', 'талаа', 'орчмын', 'бүрэн', 'байхаар', 'хөгжлийн', 'нэмэгдүүлэхээр', 'сургуульд', 'хэлэлцээ', 'бүтэц', 'байгуулна.Шинжлэх', 'үсэг', 'хоёр', 'Эдийн', 'айлчлал', 'улмаар', 'нэгдсэн', 'хамтран', 'улсын', 'хэсэг', 'олон', 'Замын-Үүд', 'ажиллая', 'хүн', 'холбоотой', 'эрдэмтэд', 'үйлдвэрлэхэд', 'гаруй', 'байгаа', 'байгуулахаар', 'хил', 'оюутан', 'их', 'зорилго', 'нь', 'гаргаж', 'ойлголцлын', 'шатах', 'ачих', 'холбосон', 'тос-химийн', 'бичиг', 'үйлдвэрлэх', 'удаад', 'сэргийлэхээр', 'дотоодын', 'амтай', 'үйлдвэр', 'ажлын', 'нефть', 'боломжийг', 'шингэн', 'ой', 'хувьд', 'бүхий', '15', 'болон', 'Энэхүү', 'ахиулах', 'дэд', 'хоорондын', 'салбарт', 'байрладаг', 'гүүр', 'Үүнээс', 'Өөрөөр', 'бизнес', 'илүү', 'байгууламж', 'эрэлт', '1000', 'ажилласнаар', 'таниулах', 'ухааны', 'айлчилж', 'нийтдээ', 'хэрэгцээг', 'болно', 'хий', 'юм', '10', 'газрын', 'БНХАУ-ын', 'харилцааг', 'сайдын', 'талууд', 'ашиглая', 'хангагдана', 'дөрвөлжин', 'яамтай', '-Энэ', 'Их', 'сонирхол', 'мэдээ', 'сайн', 'Манай', 'сард', 'хөршийн', 'дэх', 'боловсрол', 'зам', 'ашиглаж', 'ажилладаг', 'уул', 'дундуур', 'аж', 'хүчин', 'жилдээ', 'Онцгой', 'нэг', 'удаагийн', 'бага', 'чадахгүй', '-Хятадын', 'харилцаатай', 'дүнд', 'айлчлалын', 'зурсан', 'хэрхэн', '5000', 'бүтээлээ', 'хүчний', 'инкубатор', 'зорилгоор', 'эрчим', 'худалдаа', 'шинжилгээний', 'ажиллавал', 'км-ээр', 'метр', 'долоо', 'нэмэгдэж', 'түшиглэн', '-Уул', 'орны', 'өртөөн', 'таван', 'Айлчлалын', 'Мөн', 'тонн', 'төвшинд', 'засгийн', 'жилийн', 'төрөл', 'ханшаар', 'эрдэм', 'Энэ', 'яам', 'Монгол', 'цөөхөн', 'Иргэний', 'зүүн', 'Улсын', 'сургахаар', 'анхны', 'уг', 'хэргийн', 'төрлийн', 'өсөлтийг', 'Газрын', 'Шинжлэх', 'шилжүүлэн', 'нүүрсийг', 'Гамшгийн', 'тэрбум', '4710', 'гарын', 'нүүрс', 'сая', 'Н.Батбаяр', 'давуу', 'сайд', 'таарч', 'ажиллах', 'аймгийн', 'БНХАУ-д', '-БНХАУ-ын', 'борлуулах', 'газар', 'гэдэг', 'төлөөлөгчдийн', 'тэтгэлэгээр', 'ярилцлаа', 'эдийн', 'Аж', 'болгох', 'Ерөнхий', 'түймэртэй', 'байвал', 'ашиглах', 'ажил', 'мянган', 'Гамшгаас', 'шинжлэх', 'ерөнхий', 'баярлалаа', 'бүтээгдэхүүнээр', 'нэгж', 'хэлэлцлээ', 'авто', 'байдлын', 'холботой', 'Ер', 'дуусах', 'өргөтгөлийн', 'боломжтой', 'тал', 'бичигт', 'тоог', 'ажиллахаар', 'гурван', 'бууруулахад', 'ажиллагааны', 'хооронд', 'байсны', 'байраар', '-Боловсрол', 'хамгаалах', 'нутагт', 'ашиглагдана', 'корпораци', 'зах', 'өргөн', 'энэ', 'мянга', 'коридор', 'ээлжинд', 'хангах', 'шатанд', 'түүний', 'тэмцэх', 'ордыг', 'хугацаанд', 'хүрээнд', 'танд', 'жижиглэнгийн', 'боллоо', 'хамтарч', 'тээвэр', 'төхөөрөмжийн', 'залгадаг', 'зээлд', 'нүүрсний', 'эхний', 'бүх', 'үнийг', 'ахуй', 'Т.Дуламдорж', 'учраас', 'чадлаараа', 'хэлбэл', 'нийлүүлэлтийг', 'Тиймээс', 'байгууллаа', 'харилцан', 'талаар', 'Танд', '-Ерөнхий', 'дүнгийн', 'тогтсон', 'үеэр', 'сайт', 'Боловсрол', 'Өнөөдрийн', 'сургуулийн', 'МГЛ-93-ийг', 'санал', 'хойш', 'зурлаа', 'Ш.ЧИМЭГ', 'таалагдаж', 'салбар', 'LIKE', 'дээр', 'байгуулах', 'ам.долларын', 'байдаг', 'хийгээрэй', 'хэмжээний', 'тус', 'улс', 'яаж', 'төмөр', 'ирэх', 'оюутны', 'өнгөрсөн', 'уурхайн', 'сарын', 'үйлдвэрийн', 'дарга', '2009', 'бусад', 'сурдаг', 'байгааг', 'хоногт', 'үнэ', 'парк', 'SINOPEC-ийн', 'тухай', 'холбож', 'хоорондоо', '50', 'урьдчилан', 'хүргэе', 'өнөөдрийн', 'хамтын', 'Хятадын', 'ахуйн', 'даргын', 'хийн', 'чиглэлд', 'шатахууны', 'Улс', 'чадалтай', 'дунд', 'бид', 'Харилцан', 'түшиглэсэн']\n"
     ]
    }
   ],
   "source": [
    "text = all_words[0]\n",
    "re_patterns = [r\"\\$[^;]*;\", r\"[^\\w\\s\\.\\-]\", r\"https?://[^\\s]+|\", r\"\\.(?!\\w)\", r\"[\\w\\.-]+@[\\w\\.-]+\\.[\\w]+|\",\n",
    "               r\"[^a-zA-Z0-9\\s]+:|\", r\"#\\w+\", r\"<[^>]*>\", r\"http[s]?://\\S+\"]\n",
    "\n",
    "for pattern in re_patterns:\n",
    "    text = re.sub(pattern, '', text, flags = re.DOTALL)\n",
    "cleaned_text = re.sub(r\"\\s+\", ' ', text, flags = re.DOTALL)\n",
    "cleaned_text = list(set(nltk.word_tokenize(cleaned_text)))\n",
    "print(cleaned_text)"
   ]
  },
  {
   "cell_type": "code",
   "execution_count": 4,
   "metadata": {},
   "outputs": [],
   "source": [
    "with open(\"text_data/en_wordlist_10k.txt\") as word_file:\n",
    "    english_words = set(word.strip().lower() for word in word_file)\n",
    "\n",
    "def is_en(word):\n",
    "    return not word in english_words\n",
    "\n",
    "def clean_text(text):\n",
    "    for pattern in re_patterns:\n",
    "        text = re.sub(pattern, '', text, flags = re.DOTALL)\n",
    "    text = re.sub(r\"\\s+\", ' ', text, flags = re.DOTALL)\n",
    "\n",
    "    words = nltk.word_tokenize(text)\n",
    "    #words = [word for word in words if word.isalnum() and is_en(word)]\n",
    "    words = [word for word in words if word.isalnum() and not bool(re.search('[a-zA-Z]', word)) and len(word) > 2]\n",
    "    bool(re.search('[a-zA-Z]', 'өөүүүоооҮүүӨөйыбйы'))\n",
    "\n",
    "    return set(words)"
   ]
  },
  {
   "cell_type": "code",
   "execution_count": 5,
   "metadata": {},
   "outputs": [
    {
     "name": "stderr",
     "output_type": "stream",
     "text": [
      "100%|██████████| 13406/13406 [01:02<00:00, 214.06it/s]\n"
     ]
    },
    {
     "name": "stdout",
     "output_type": "stream",
     "text": [
      "119340\n"
     ]
    }
   ],
   "source": [
    "all_cleaned_words = []\n",
    "for text in tqdm(all_words, total = len(all_words)):\n",
    "    words = clean_text(text)\n",
    "    all_cleaned_words.extend(words)\n",
    "\n",
    "unique_words = list(set(all_cleaned_words))\n",
    "print(len(unique_words))\n",
    "\n",
    "with open('text_data/eduge_uls_tur_unique_words.txt', 'w') as file:\n",
    "    for word in unique_words:\n",
    "        file.write(word + '\\n')"
   ]
  },
  {
   "cell_type": "code",
   "execution_count": null,
   "metadata": {},
   "outputs": [],
   "source": []
  }
 ],
 "metadata": {
  "kernelspec": {
   "display_name": "ocr_env",
   "language": "python",
   "name": "python3"
  },
  "language_info": {
   "codemirror_mode": {
    "name": "ipython",
    "version": 3
   },
   "file_extension": ".py",
   "mimetype": "text/x-python",
   "name": "python",
   "nbconvert_exporter": "python",
   "pygments_lexer": "ipython3",
   "version": "3.9.19"
  }
 },
 "nbformat": 4,
 "nbformat_minor": 2
}
