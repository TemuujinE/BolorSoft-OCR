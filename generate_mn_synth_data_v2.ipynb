{
 "cells": [
  {
   "cell_type": "code",
   "execution_count": 2,
   "metadata": {},
   "outputs": [],
   "source": [
    "from PIL import Image, ImageFont"
   ]
  },
  {
   "cell_type": "code",
   "execution_count": 6,
   "metadata": {},
   "outputs": [],
   "source": [
    "text = \"Айлчлалын үр дүнгийн талаар төлөөлөгчдийн байр суурийг хүргэе.\"\n",
    "\n",
    "font_size = 36\n",
    "font_filepath = \"static/NotoSans-Regular.ttf\"\n",
    "color = (67, 33, 116, 155)\n",
    "\n",
    "font = ImageFont.truetype(font_filepath, size=font_size)\n",
    "mask_image = font.getmask(text, \"L\")\n",
    "img = Image.new(\"RGBA\", mask_image.size)\n",
    "img.im.paste(color, (0, 0) + mask_image.size, mask_image)  # need to use the inner `img.im.paste` due to `getmask` returning a core\n",
    "img.save(\"yes.png\")"
   ]
  },
  {
   "cell_type": "code",
   "execution_count": null,
   "metadata": {},
   "outputs": [],
   "source": []
  }
 ],
 "metadata": {
  "kernelspec": {
   "display_name": "ocr_pt_env",
   "language": "python",
   "name": "python3"
  },
  "language_info": {
   "codemirror_mode": {
    "name": "ipython",
    "version": 3
   },
   "file_extension": ".py",
   "mimetype": "text/x-python",
   "name": "python",
   "nbconvert_exporter": "python",
   "pygments_lexer": "ipython3",
   "version": "3.9.19"
  }
 },
 "nbformat": 4,
 "nbformat_minor": 2
}
