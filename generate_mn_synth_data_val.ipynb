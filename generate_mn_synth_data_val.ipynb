{
 "cells": [
  {
   "cell_type": "code",
   "execution_count": 1,
   "metadata": {},
   "outputs": [
    {
     "name": "stderr",
     "output_type": "stream",
     "text": [
      "[nltk_data] Downloading package punkt to\n",
      "[nltk_data]     C:\\Users\\mnv\\AppData\\Roaming\\nltk_data...\n",
      "[nltk_data]   Package punkt is already up-to-date!\n"
     ]
    },
    {
     "name": "stdout",
     "output_type": "stream",
     "text": [
      "Missing modules for handwritten text generation.\n"
     ]
    }
   ],
   "source": [
    "import warnings\n",
    "warnings.filterwarnings('ignore')\n",
    "\n",
    "import random\n",
    "import os, re, gc\n",
    "from tqdm import tqdm\n",
    "\n",
    "import numpy as np\n",
    "import pandas as pd\n",
    "\n",
    "import nltk\n",
    "nltk.download('punkt')\n",
    "from trdg.generators import GeneratorFromStrings\n",
    "\n",
    "import matplotlib.pyplot as plt"
   ]
  },
  {
   "cell_type": "markdown",
   "metadata": {},
   "source": [
    "# White bg"
   ]
  },
  {
   "cell_type": "code",
   "execution_count": 2,
   "metadata": {},
   "outputs": [
    {
     "name": "stdout",
     "output_type": "stream",
     "text": [
      "Missing modules for handwritten text generation."
     ]
    },
    {
     "name": "stderr",
     "output_type": "stream",
     "text": [
      "\n",
      "  0%|          | 0/5 [00:00<?, ?it/s]\n",
      " 20%|██        | 1/5 [00:00<00:02,  2.00it/s]\n",
      "100%|██████████| 5/5 [00:00<00:00,  9.68it/s]\n"
     ]
    },
    {
     "name": "stdout",
     "output_type": "stream",
     "text": [
      "\n",
      "Missing modules for handwritten text generation.\n",
      "Missing modules for handwritten text generation.\n",
      "Missing modules for handwritten text generation.\n",
      "Missing modules for handwritten text generation.\n",
      "Missing modules for handwritten text generation.\n"
     ]
    }
   ],
   "source": [
    "!trdg --output_dir \"./mn_recognition_data/val\" --dict \"text_data/eduge_uls_tur_unique_words.txt\" -fd \"TextRecognitionDataGenerator/trdg/fonts/mn\" --random --thread_count 8 -l mn -c 5 -w 1 --blur 3 --skew_angle 5 --random_blur --random_skew -f 128"
   ]
  },
  {
   "cell_type": "markdown",
   "metadata": {},
   "source": [
    "# Random img bg"
   ]
  },
  {
   "cell_type": "code",
   "execution_count": 3,
   "metadata": {},
   "outputs": [
    {
     "name": "stdout",
     "output_type": "stream",
     "text": [
      "Missing modules for handwritten text generation.\n",
      "Missing modules for handwritten text generation.\n",
      "Missing modules for handwritten text generation.\n",
      "Missing modules for handwritten text generation.\n",
      "Missing modules for handwritten text generation.\n",
      "Missing modules for handwritten text generation.\n"
     ]
    },
    {
     "name": "stderr",
     "output_type": "stream",
     "text": [
      "\n",
      "  0%|          | 0/5 [00:00<?, ?it/s]\n",
      " 20%|██        | 1/5 [00:00<00:01,  2.00it/s]\n",
      "100%|██████████| 5/5 [00:00<00:00,  9.85it/s]\n"
     ]
    }
   ],
   "source": [
    "!trdg --output_dir \"./mn_recognition_data/val\" --dict \"text_data/eduge_uls_tur_unique_words.txt\" -fd \"TextRecognitionDataGenerator/trdg/fonts/mn\" --random --thread_count 8 -l mn -c 5 -w 1 --skew_angle 5 --random_skew -f 128 -b 3"
   ]
  },
  {
   "cell_type": "code",
   "execution_count": 4,
   "metadata": {},
   "outputs": [
    {
     "name": "stderr",
     "output_type": "stream",
     "text": [
      "10it [00:00, 5012.91it/s]\n"
     ]
    }
   ],
   "source": [
    "data = {\n",
    "    \"img_name\": [],\n",
    "    \"text\": []\n",
    "}\n",
    "data_path = \"mn_recognition_data/val\"\n",
    "for idx, img_name in tqdm(enumerate(os.listdir(data_path))):\n",
    "    os.rename(os.path.join(data_path, img_name), f\"{data_path}/img{idx}.jpg\")\n",
    "\n",
    "    data['img_name'].append(f\"img{idx}.jpg\")\n",
    "    data['text'].append(img_name.split('_')[0].strip())\n",
    "\n",
    "data = pd.DataFrame(data)\n",
    "data.to_csv('mn_recognition_data/val_labels.csv', encoding = 'utf-8', index = False)"
   ]
  },
  {
   "cell_type": "code",
   "execution_count": 5,
   "metadata": {},
   "outputs": [
    {
     "name": "stderr",
     "output_type": "stream",
     "text": [
      "100%|██████████| 10/10 [00:00<00:00, 10031.82it/s]\n"
     ]
    }
   ],
   "source": [
    "data_list = data.values.tolist()\n",
    "\n",
    "with open(\"mn_recognition_data/val_labels.txt\", \"w\") as f:\n",
    "  for i, row in tqdm(enumerate(data_list), total = len(data_list)):\n",
    "    if i != len(data_list) - 1:\n",
    "      f.write(\"\\t\".join(str(x) for x in row) + \"\\n\")\n",
    "    else:\n",
    "      f.write(\"\\t\".join(str(x) for x in row))"
   ]
  },
  {
   "cell_type": "code",
   "execution_count": null,
   "metadata": {},
   "outputs": [],
   "source": []
  }
 ],
 "metadata": {
  "kernelspec": {
   "display_name": "ocr_pt_env",
   "language": "python",
   "name": "python3"
  },
  "language_info": {
   "codemirror_mode": {
    "name": "ipython",
    "version": 3
   },
   "file_extension": ".py",
   "mimetype": "text/x-python",
   "name": "python",
   "nbconvert_exporter": "python",
   "pygments_lexer": "ipython3",
   "version": "3.9.19"
  }
 },
 "nbformat": 4,
 "nbformat_minor": 2
}
